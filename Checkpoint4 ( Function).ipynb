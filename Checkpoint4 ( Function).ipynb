{
 "cells": [
  {
   "cell_type": "code",
   "execution_count": 1,
   "id": "c2378610",
   "metadata": {},
   "outputs": [
    {
     "name": "stdout",
     "output_type": "stream",
     "text": [
      "3\n"
     ]
    }
   ],
   "source": [
    "#Question 1\n",
    "def triade(a,b,c):\n",
    "    x=int(a)\n",
    "    y=int(b)\n",
    "    e=int(c)\n",
    "    if a>b and a>c:\n",
    "        return(a)\n",
    "    elif b>a and b>c:\n",
    "        return(b)\n",
    "    else:\n",
    "        return(c)\n",
    "\n",
    "                \n",
    "d=1\n",
    "r=2\n",
    "t=3\n",
    "print (triade(d,r,t))"
   ]
  },
  {
   "cell_type": "code",
   "execution_count": 4,
   "id": "f4c5f1eb",
   "metadata": {},
   "outputs": [
    {
     "name": "stdout",
     "output_type": "stream",
     "text": [
      "(50, 30)\n"
     ]
    }
   ],
   "source": [
    "#Write a function calculation() such that it can accept two variables and calculate the addition \n",
    "#and subtraction of it. \n",
    "#And also it must return both addition and subtraction in a single return call\n",
    "#For example:\n",
    "#calculation(40, 10) should produce 50, 30\n",
    "\n",
    "\n",
    "def calculation(a,b):\n",
    "    x=int(a)\n",
    "    y=int(b)\n",
    "    add=a+b\n",
    "    sub=a-b\n",
    "    return add,sub\n",
    "   \n",
    "ex1=40\n",
    "ex2=10\n",
    "\n",
    "print (calculation(ex1,ex2))"
   ]
  },
  {
   "cell_type": "code",
   "execution_count": 29,
   "id": "39220363",
   "metadata": {},
   "outputs": [
    {
     "name": "stdout",
     "output_type": "stream",
     "text": [
      "[2, 4, 6] [1, 3, 5]\n",
      "12\n",
      "15\n"
     ]
    }
   ],
   "source": [
    "def sum(l):\n",
    "    somme=0\n",
    "    for i in l:\n",
    "        i=int(i)\n",
    "        somme=somme+i\n",
    "    \n",
    "    return somme\n",
    "\n",
    "def multi(l):\n",
    "    multiplication=1\n",
    "    for i in l:\n",
    "        i=int(i)\n",
    "        multiplication=i*multiplication\n",
    "    return multiplication\n",
    "\n",
    "List=[1,2,3,4,5,6]\n",
    "pair=[]\n",
    "impair=[]\n",
    "for i in List:\n",
    "    if (i%2)==0:\n",
    "        pair.append(i)        \n",
    "    else:\n",
    "        impair.append(i)\n",
    "print(pair,impair)        \n",
    "print (sum(pair))\n",
    "print (multi(impair))\n",
    "        "
   ]
  },
  {
   "cell_type": "code",
   "execution_count": 162,
   "id": "05f7d630",
   "metadata": {},
   "outputs": [
    {
     "name": "stdout",
     "output_type": "stream",
     "text": [
      "green-red-yellow-black-white\n",
      "black-green-red-white-yellow = ordonnée par ordre alphabetique\n"
     ]
    }
   ],
   "source": [
    "def alphabet(ex):\n",
    "    wording=[]\n",
    "    seq=str('')\n",
    "    for i in range(len(ex)):\n",
    "    \n",
    "        if ex[i]!='-':\n",
    "            seq=seq+ex[i]\n",
    "        else:\n",
    "            wording.append(seq)\n",
    "            seq=''\n",
    "    wording.append(seq) #append the last word   \n",
    "    sorted_list = sorted(wording, key=str.lower)\n",
    "    \n",
    "    \n",
    "    ex=sorted_list\n",
    "    for i in range(len(sorted_list)):\n",
    "        if i<(len(sorted_list)-1):\n",
    "            print (sorted_list[i]+'-',end='')\n",
    "        else:\n",
    "            print(sorted_list[i],end=' ')\n",
    "    return ('= ordonnée par ordre alphabetique')\n",
    "   \n",
    "#end function\n",
    "\n",
    "\n",
    "listing=input()\n",
    "\n",
    "\n",
    "print(alphabet(listing))\n",
    "\n",
    "\n"
   ]
  },
  {
   "cell_type": "code",
   "execution_count": 224,
   "id": "9c6e8d20",
   "metadata": {},
   "outputs": [
    {
     "name": "stdout",
     "output_type": "stream",
     "text": [
      "[18, 22, 26]\n"
     ]
    }
   ],
   "source": [
    "import math\n",
    "def trans(exemple1):\n",
    "    List=[]\n",
    "    seq=''\n",
    "    for i in exemple1:\n",
    "        \n",
    "        if i!=',':\n",
    "            seq=seq+str(i)\n",
    "        elif i==',':\n",
    "            element=float(seq)            \n",
    "            resultat=math.sqrt((100*element)/30)\n",
    "            List.append(round(resultat))\n",
    "            seq=''\n",
    "    element=float(seq)\n",
    "    resultat=math.sqrt((100*element)/30)\n",
    "    List.append(round(resultat))\n",
    "    return List\n",
    "\n",
    "            \n",
    "            \n",
    "x='100,150,200'\n",
    "print(trans(x))\n"
   ]
  },
  {
   "cell_type": "code",
   "execution_count": null,
   "id": "2857b86d",
   "metadata": {},
   "outputs": [],
   "source": []
  }
 ],
 "metadata": {
  "kernelspec": {
   "display_name": "Python 3",
   "language": "python",
   "name": "python3"
  },
  "language_info": {
   "codemirror_mode": {
    "name": "ipython",
    "version": 3
   },
   "file_extension": ".py",
   "mimetype": "text/x-python",
   "name": "python",
   "nbconvert_exporter": "python",
   "pygments_lexer": "ipython3",
   "version": "3.8.8"
  }
 },
 "nbformat": 4,
 "nbformat_minor": 5
}
